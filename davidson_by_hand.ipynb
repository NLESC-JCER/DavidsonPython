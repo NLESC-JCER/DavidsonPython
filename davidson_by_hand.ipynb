{
 "cells": [
  {
   "cell_type": "markdown",
   "metadata": {},
   "source": [
    "# Davidson Example\n",
    "\n",
    "In this small tutorial we will unroll the Davidson method to compute the lowest eigenvalue of a 5 x 5 matrix. The example is taken from the online presentation : http://www.esqc.org/static/lectures/Malmqvist_2B.pdf. The Davidson method can be summarized as:\n",
    "  * Initialize : Define $n$ vectors $b = \\{b_1,...b_n\\}$\n",
    "  * Iterate : loop untul convergence\n",
    "    1. Orthogonalize the **b** vectors\n",
    "    2. project the matrix on the subspace $A_p = b^T \\times A \\times b$\n",
    "    3. Diagonalize the projected matrix : $A_p \\times v = \\lambda \\times v$ \n",
    "    4. Compute the residue vector : $r = A\\times b - \\lambda \\times b$\n",
    "    5. Compute correction vector : $q = - r / (A_{ii} - \\lambda)$\n",
    "    6. Append the correction vector to $b$ : $b = \\{b_1,...,b_n,q\\}$ "
   ]
  },
  {
   "cell_type": "code",
   "execution_count": 2,
   "metadata": {},
   "outputs": [],
   "source": [
    "import numpy as np"
   ]
  },
  {
   "cell_type": "markdown",
   "metadata": {},
   "source": [
    "**Define the matrix to diagonalize** : Let's define the matrix we want to diagonalize as :"
   ]
  },
  {
   "cell_type": "code",
   "execution_count": 3,
   "metadata": {},
   "outputs": [],
   "source": [
    "A = 0.1*np.ones((5,5)) + np.diag([0.9,1.9,2.9,2.9,2.9])"
   ]
  },
  {
   "cell_type": "code",
   "execution_count": 4,
   "metadata": {},
   "outputs": [
    {
     "name": "stdout",
     "output_type": "stream",
     "text": [
      "[[1.  0.1 0.1 0.1 0.1]\n",
      " [0.1 2.  0.1 0.1 0.1]\n",
      " [0.1 0.1 3.  0.1 0.1]\n",
      " [0.1 0.1 0.1 3.  0.1]\n",
      " [0.1 0.1 0.1 0.1 3. ]]\n"
     ]
    }
   ],
   "source": [
    "print(A)"
   ]
  },
  {
   "cell_type": "markdown",
   "metadata": {},
   "source": [
    " **Intialization:** Our first guess for the lowest eigenstate is set to :"
   ]
  },
  {
   "cell_type": "code",
   "execution_count": 35,
   "metadata": {},
   "outputs": [
    {
     "name": "stdout",
     "output_type": "stream",
     "text": [
      "[[1]\n",
      " [0]\n",
      " [0]\n",
      " [0]\n",
      " [0]]\n"
     ]
    }
   ],
   "source": [
    "b = np.array([[1],[0],[0],[0],[0]]); print(b)"
   ]
  },
  {
   "cell_type": "markdown",
   "metadata": {},
   "source": [
    "**FIRST ITERATION**"
   ]
  },
  {
   "cell_type": "markdown",
   "metadata": {},
   "source": [
    "**1. Orthogonalization**: There is no need to orthogonalize the **b** vector"
   ]
  },
  {
   "cell_type": "markdown",
   "metadata": {},
   "source": [
    "**2. Project A on the subspace** : $A_{p} = b^T \\times A \\times b$"
   ]
  },
  {
   "cell_type": "code",
   "execution_count": 17,
   "metadata": {},
   "outputs": [
    {
     "name": "stdout",
     "output_type": "stream",
     "text": [
      "[[1.]]\n"
     ]
    }
   ],
   "source": [
    "ProjA = np.dot(b.T,np.dot(A,b)); print(ProjA)"
   ]
  },
  {
   "cell_type": "markdown",
   "metadata": {},
   "source": [
    "**3. Diagonalize the projected matrix** : Not needed here ..."
   ]
  },
  {
   "cell_type": "code",
   "execution_count": 19,
   "metadata": {},
   "outputs": [],
   "source": [
    "l = 1.\n",
    "v = [[1.]]"
   ]
  },
  {
   "cell_type": "markdown",
   "metadata": {},
   "source": [
    "**4. Compute the residue vector** : $r = A\\times b - \\lambda \\times b$"
   ]
  },
  {
   "cell_type": "code",
   "execution_count": 91,
   "metadata": {},
   "outputs": [
    {
     "name": "stdout",
     "output_type": "stream",
     "text": [
      "[[0. ]\n",
      " [0.1]\n",
      " [0.1]\n",
      " [0.1]\n",
      " [0.1]]\n"
     ]
    }
   ],
   "source": [
    "r = np.dot(A,b) - l*b; print(r)"
   ]
  },
  {
   "cell_type": "markdown",
   "metadata": {},
   "source": [
    "**5. Compute correction vector** : $q = r/(A_{ii}-\\lambda)$"
   ]
  },
  {
   "cell_type": "code",
   "execution_count": 92,
   "metadata": {},
   "outputs": [
    {
     "name": "stdout",
     "output_type": "stream",
     "text": [
      "[[-0.        ]\n",
      " [-0.75592895]\n",
      " [-0.37796447]\n",
      " [-0.37796447]\n",
      " [-0.37796447]]\n"
     ]
    }
   ],
   "source": [
    "q = - r.T / (np.diag(A)- l + 1E-18); q /= np.linalg.norm(q); print(q.T)"
   ]
  },
  {
   "cell_type": "markdown",
   "metadata": {},
   "source": [
    "**SECOND ITERATION**"
   ]
  },
  {
   "cell_type": "markdown",
   "metadata": {},
   "source": [
    "**1. Append the new vector to the old guesses and orthonormalize them**"
   ]
  },
  {
   "cell_type": "code",
   "execution_count": 93,
   "metadata": {},
   "outputs": [
    {
     "name": "stdout",
     "output_type": "stream",
     "text": [
      "[[ 1.         -0.        ]\n",
      " [ 0.         -0.75592895]\n",
      " [ 0.         -0.37796447]\n",
      " [ 0.         -0.37796447]\n",
      " [ 0.         -0.37796447]]\n"
     ]
    }
   ],
   "source": [
    "b2 = np.hstack((b,q.T)); print(b2)"
   ]
  },
  {
   "cell_type": "code",
   "execution_count": 94,
   "metadata": {},
   "outputs": [
    {
     "name": "stdout",
     "output_type": "stream",
     "text": [
      "[[ 1.          0.        ]\n",
      " [-0.         -0.75592895]\n",
      " [-0.         -0.37796447]\n",
      " [-0.         -0.37796447]\n",
      " [-0.         -0.37796447]]\n"
     ]
    }
   ],
   "source": [
    "b2,r = np.linalg.qr(b2); print(b2)"
   ]
  },
  {
   "cell_type": "markdown",
   "metadata": {},
   "source": [
    "**2. Project A on the subspace** : $A_{p} = b^T \\times A \\times b$"
   ]
  },
  {
   "cell_type": "code",
   "execution_count": 86,
   "metadata": {},
   "outputs": [
    {
     "name": "stdout",
     "output_type": "stream",
     "text": [
      "[[ 1.   -0.2 ]\n",
      " [-0.2   3.05]]\n"
     ]
    }
   ],
   "source": [
    "ProjA = np.dot(b2.T,np.dot(A,b2)); print(ProjA)"
   ]
  },
  {
   "cell_type": "markdown",
   "metadata": {},
   "source": [
    "**3. Diagonalize the projected matrix** :"
   ]
  },
  {
   "cell_type": "code",
   "execution_count": 87,
   "metadata": {},
   "outputs": [
    {
     "name": "stdout",
     "output_type": "stream",
     "text": [
      "[0.98067007 3.06932993]\n"
     ]
    }
   ],
   "source": [
    "theta,s = np.linalg.eigh(ProjA); print(theta)"
   ]
  },
  {
   "cell_type": "markdown",
   "metadata": {},
   "source": [
    "**4. Compute the residue vector**"
   ]
  },
  {
   "cell_type": "code",
   "execution_count": 88,
   "metadata": {},
   "outputs": [
    {
     "name": "stdout",
     "output_type": "stream",
     "text": [
      "0.04165641604351871\n"
     ]
    }
   ],
   "source": [
    "r2 = np.dot((np.dot(A,b2)-theta[0]*b2),s[:,0]); print(np.linalg.norm(r2))"
   ]
  },
  {
   "cell_type": "markdown",
   "metadata": {},
   "source": [
    "The norm of the reisdue is lower than the desired tolerance, therefore the calculations has converged !  \n",
    "The approximate value of the eigenvalue is 0.979. The corresponding eigenvector is given by the corresponding Ritz vector"
   ]
  },
  {
   "cell_type": "code",
   "execution_count": 89,
   "metadata": {},
   "outputs": [
    {
     "name": "stdout",
     "output_type": "stream",
     "text": [
      "[-0.99536189  0.04810069  0.04810069  0.04810069  0.04810069]\n"
     ]
    }
   ],
   "source": [
    "c = np.dot(b2,s[:,0]); print(c)"
   ]
  },
  {
   "cell_type": "markdown",
   "metadata": {},
   "source": [
    "We can compare those results with the numpy diagonalization"
   ]
  },
  {
   "cell_type": "code",
   "execution_count": 70,
   "metadata": {},
   "outputs": [
    {
     "name": "stdout",
     "output_type": "stream",
     "text": [
      "0.9790664138520669 [ 0.99383078 -0.08532498 -0.04090648 -0.04090648 -0.04090648]\n"
     ]
    }
   ],
   "source": [
    "u,v = np.linalg.eigh(A); print(u[0], v[:,0])"
   ]
  }
 ],
 "metadata": {
  "kernelspec": {
   "display_name": "Python 3",
   "language": "python",
   "name": "python3"
  },
  "language_info": {
   "codemirror_mode": {
    "name": "ipython",
    "version": 3
   },
   "file_extension": ".py",
   "mimetype": "text/x-python",
   "name": "python",
   "nbconvert_exporter": "python",
   "pygments_lexer": "ipython3",
   "version": "3.7.1"
  }
 },
 "nbformat": 4,
 "nbformat_minor": 2
}
